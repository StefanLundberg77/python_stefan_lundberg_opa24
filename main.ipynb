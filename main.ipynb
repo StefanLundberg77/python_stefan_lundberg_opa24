{
 "cells": [
  {
   "cell_type": "markdown",
   "metadata": {},
   "source": [
    "1. print out a short text of your introduction as below:\n",
    "\n",
    "-----------------My introduction------------------\n",
    "I am currently studying AI. My class is called OPA24.\n",
    "\n",
    "raw data as a list:\n",
    "\n",
    "[\"   i \", \"AM \", \"    CURRENTLY \", \"TEACHING\", \"ai.   \", \"mY\", \"   CLASS\", \"IS\", \"CALLED\", \"opa21.\"]"
   ]
  },
  {
   "cell_type": "code",
   "execution_count": 45,
   "metadata": {},
   "outputs": [
    {
     "name": "stdout",
     "output_type": "stream",
     "text": [
      "-----------------My introduction------------------\n",
      "I am currently teaching AI. My class is called OPA24.\n"
     ]
    }
   ],
   "source": [
    "my_list = [\"   i \", \"AM \", \"    CURRENTLY \", \"TEACHING\", \"ai.   \", \"mY\", \"   CLASS\", \"IS\", \"CALLED\", \"opa21.\"]\n",
    "\n",
    "# strip blanc spaces, replace opa, swap upper & lower case of the elements\n",
    "my_corrected_list = [element.strip().replace(\"opa21\", \"opa24\").swapcase() for element in my_list]\n",
    "\n",
    "# join elements with a blanc space between\n",
    "my_sentence = \" \".join(my_corrected_list)\n",
    "\n",
    "# len to get the number of characters in the sentence\n",
    "# print(len(my_sentence))\n",
    "\n",
    "# print title surrounded with --- and centered. 50 should be 53 but assignement title layout is 3 chars short :)\n",
    "title = \"My introduction\".center(50, \"-\")\n",
    "\n",
    "print(title)\n",
    "\n",
    "print(my_sentence)"
   ]
  },
  {
   "cell_type": "markdown",
   "metadata": {},
   "source": [
    "2. Hire IT employee data\n",
    "In a company Hire IT, there are these employees.\n",
    "\n",
    "employeeID\tname\tdepartment\tsalary\n",
    "0\tAlice\tHR\t31000\n",
    "1\tBob\tIT\t41000\n",
    "2\tCharlie\tHR\t28000\n",
    "  a) Create a list of dictionaries to represent this data, where each dictionary represents each row.\n",
    "\n",
    "  b) Extract the second record in this dataset.\n",
    "\n",
    "  c) Extract all rows from this dataset and print it in this format\n",
    "\n",
    "  Alice works in department HR and earns 31000.\n",
    "Bob works in department IT and earns 41000.\n",
    "Charlie works in department HR and earns 28000.\n",
    "  d) Find out the average salary in Hire IT.\n",
    "\n",
    "  e) Find out the average salary among the HR department in Hire IT.\n",
    "\n",
    "  f) Extract all records where the department is HR.\n",
    "\n",
    "  g) Find all unique departments in this list."
   ]
  },
  {
   "cell_type": "code",
   "execution_count": null,
   "metadata": {},
   "outputs": [
    {
     "name": "stdout",
     "output_type": "stream",
     "text": [
      "1.\n",
      "employeeID\tname\tdepartment\tsalary\n",
      "1\tBob\tIT\t41000\n",
      "\n",
      "2.\n",
      "employeeID\tname\tdepartment\tsalary\n",
      "0\tAlice\tHR\t31000\n",
      "1\tBob\tIT\t41000\n",
      "2\tCharlie\tHR\t28000\n"
     ]
    }
   ],
   "source": [
    "headline = \"employeeID\tname\tdepartment\tsalary\"\n",
    "\n",
    "roster = [\n",
    "    {\"employeeID\": 0, \"name\": \"Alice\", \"department\": \"HR\", \"salary\": 31000},\n",
    "    {\"employeeID\": 1, \"name\": \"Bob\", \"department\": \"IT\", \"salary\": 41000},\n",
    "    {\"employeeID\": 2, \"name\": \"Charlie\", \"department\": \"HR\", \"salary\": 28000}\n",
    "    ]\n",
    "\n",
    "print(\"1.\")\n",
    "print(headline)\n",
    "\n",
    "second_record = roster[1]\n",
    "\n",
    "print(f\"{second_record['employeeID']}\\t{second_record['name']}\\t{second_record['department']}\\t{second_record['salary']}\")\n",
    "\n",
    "print(\"\")\n",
    "\n",
    "print(\"2.\")\n",
    "\n",
    "print(headline)\n",
    "\n",
    "for person in roster:\n",
    "    print(f\"{person['employeeID']}\\t{person['name']}\\t{person['department']}\\t{person['salary']}\")\n",
    "\n",
    "    # NOTE TO SELF: LÄS KLART TEXTEN"
   ]
  }
 ],
 "metadata": {
  "kernelspec": {
   "display_name": ".venv",
   "language": "python",
   "name": "python3"
  },
  "language_info": {
   "codemirror_mode": {
    "name": "ipython",
    "version": 3
   },
   "file_extension": ".py",
   "mimetype": "text/x-python",
   "name": "python",
   "nbconvert_exporter": "python",
   "pygments_lexer": "ipython3",
   "version": "3.13.2"
  }
 },
 "nbformat": 4,
 "nbformat_minor": 2
}
