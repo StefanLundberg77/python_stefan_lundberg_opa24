{
 "cells": [
  {
   "cell_type": "markdown",
   "metadata": {},
   "source": [
    "1."
   ]
  },
  {
   "cell_type": "code",
   "execution_count": 45,
   "metadata": {},
   "outputs": [
    {
     "name": "stdout",
     "output_type": "stream",
     "text": [
      "-----------------My introduction------------------\n",
      "I am currently teaching AI. My class is called OPA24.\n"
     ]
    }
   ],
   "source": [
    "my_list = [\"   i \", \"AM \", \"    CURRENTLY \", \"TEACHING\", \"ai.   \", \"mY\", \"   CLASS\", \"IS\", \"CALLED\", \"opa21.\"]\n",
    "\n",
    "# strip blanc spaces, replace opa, swap upper & lower case of the elements\n",
    "my_corrected_list = [element.strip().replace(\"opa21\", \"opa24\").swapcase() for element in my_list]\n",
    "\n",
    "# join elements with a blanc space between\n",
    "my_sentence = \" \".join(my_corrected_list)\n",
    "\n",
    "# len to get the number of characters in the sentence\n",
    "# print(len(my_sentence))\n",
    "\n",
    "# print title surrounded with --- and centered. 50 should be 53 but assignement title layout is 3 chars short :)\n",
    "title = \"My introduction\".center(50, \"-\")\n",
    "\n",
    "print(title)\n",
    "\n",
    "print(my_sentence)"
   ]
  },
  {
   "cell_type": "markdown",
   "metadata": {},
   "source": [
    "2."
   ]
  },
  {
   "cell_type": "code",
   "execution_count": 35,
   "metadata": {},
   "outputs": [
    {
     "name": "stdout",
     "output_type": "stream",
     "text": [
      "b.\n",
      "employeeID\tname\tdepartment\tsalary\n",
      "1\tBob\tIT\t41000\n",
      "\n",
      "c.\n",
      "employeeID\tname\tdepartment\tsalary\n",
      "Alice works in department HR and earns 31000.\n",
      "Bob works in department IT and earns 41000.\n",
      "Charlie works in department HR and earns 28000.\n",
      "\n",
      "d.\n",
      "33333.333333333336\n",
      "\n",
      "e.\n",
      "28000.0\n",
      "\n",
      "f.\n",
      "0\tAlice\tHR\t31000\n",
      "2\tCharlie\tHR\t28000\n",
      "Find all unique departments in this list.\n",
      "g.\n",
      "IT\n",
      "HR\n",
      "\n",
      "IT\n",
      "HR\n"
     ]
    }
   ],
   "source": [
    "headline = \"employeeID\tname\tdepartment\tsalary\"\n",
    "\n",
    "roster = [\n",
    "    {\"employeeID\": 0, \"name\": \"Alice\", \"department\": \"HR\", \"salary\": 31000},\n",
    "    {\"employeeID\": 1, \"name\": \"Bob\", \"department\": \"IT\", \"salary\": 41000},\n",
    "    {\"employeeID\": 2, \"name\": \"Charlie\", \"department\": \"HR\", \"salary\": 28000}\n",
    "]\n",
    "\n",
    "print(\"b.\")\n",
    "print(headline)\n",
    "\n",
    "person = roster[1]\n",
    "\n",
    "print(f\"{person['employeeID']}\\t{person['name']}\\t{person['department']}\\t{person['salary']}\")\n",
    "\n",
    "print(\"\")\n",
    "\n",
    "print(\"c.\")\n",
    "\n",
    "print(headline)\n",
    "\n",
    "for p in roster:\n",
    "    print(f\"{p['name']} works in department {p['department']} and earns {p['salary']}.\")\n",
    "    \n",
    "print(\"\")\n",
    "\n",
    "print(\"d.\")\n",
    "\n",
    "avarage_salary = sum(p[\"salary\"]for p in roster)/len(roster)\n",
    "\n",
    "print(avarage_salary)\n",
    "print(\"\")\n",
    "\n",
    "print(\"e.\")\n",
    "\n",
    "avarage_salary_per_department = sum(p[\"salary\"]for p[\"department\" == \"HR\"] in roster)/len(roster)\n",
    "\n",
    "print(avarage_salary_per_department)\n",
    "\n",
    "print(\"\")\n",
    "\n",
    "print(\"f.\")\n",
    "\n",
    "for p in roster:\n",
    "    if p[\"department\"] == \"HR\":\n",
    "        print(f\"{p['employeeID']}\\t{p['name']}\\t{p['department']}\\t{p['salary']}\")\n",
    "\n",
    "print(\"Find all unique departments in this list.\")\n",
    "\n",
    "print(\"g.\")\n",
    "\n",
    "departments = {p[\"department\"] for p in roster}\n",
    "for d in departments:\n",
    "    print(d)\n",
    "\n",
    "print(\"\")\n",
    "\n",
    "dep = set()\n",
    "for p in roster:\n",
    "    dep.add(p[\"department\"])\n",
    "    \n",
    "for d in dep:\n",
    "    print(d)\n"
   ]
  },
  {
   "cell_type": "markdown",
   "metadata": {},
   "source": [
    "3. Gotta catch 'em all\n",
    "  a) Define a Pokemon class with attributes for name, type, level and hp(health points). All pokemon object should have 100 as hp when they are instantiated.\n",
    "\n",
    "  b) Implement __str__() method to display the Pokemon's details. Also implement a __repr__() method.\n",
    "\n",
    "  c) Design an attack method in the Pokemon class. This method takes another pokemon object as input and causes damage of another pokemon object's hp. An attacking pokemon can cause damage of double of its own level.\n",
    "\n",
    "  d) Instantiate two pokemons and let one pokemon attacks another. Show the remaining hp of the damaged pokemon after the attack."
   ]
  },
  {
   "cell_type": "code",
   "execution_count": 49,
   "metadata": {},
   "outputs": [
    {
     "name": "stdout",
     "output_type": "stream",
     "text": [
      "a.\n",
      "Pika, Pokeon, 4, 100\n",
      "Name: Pika Type: Pokeon Level: 4 Hp: 100\n",
      "Pika, Pokeon, 4, 100\n",
      "b.\n"
     ]
    }
   ],
   "source": [
    "print(\"a.\")\n",
    "\n",
    "class Pokemon:\n",
    "    def __init__(self, name, type, level):\n",
    "        self.name = name\n",
    "        self.type = type\n",
    "        self.level = level\n",
    "        self.hp = 100\n",
    "\n",
    "    def display_info(self):\n",
    "        print(f\"{self.name}, {self.type}, {self.level}, {self.hp}\")\n",
    "\n",
    "    def __str__(self):\n",
    "        return (f\"Name: {self.name} Type: {self.type} Level: {self.level} Hp: {self.hp}\") \n",
    "    \n",
    "    def __repr__(self):\n",
    "        return f\"{self.name}, {self.type}, {self.level}, {self.hp}\"\n",
    "\n",
    "poke1 = Pokemon(\"Pika\", \"Pokeon\", 4)\n",
    "\n",
    "poke1.display_info()\n",
    "print(poke1)\n",
    "print(repr(poke1))\n",
    "\n",
    "\n",
    "\n",
    "\n",
    "print(\"b.\")\n"
   ]
  }
 ],
 "metadata": {
  "kernelspec": {
   "display_name": ".venv",
   "language": "python",
   "name": "python3"
  },
  "language_info": {
   "codemirror_mode": {
    "name": "ipython",
    "version": 3
   },
   "file_extension": ".py",
   "mimetype": "text/x-python",
   "name": "python",
   "nbconvert_exporter": "python",
   "pygments_lexer": "ipython3",
   "version": "3.13.2"
  }
 },
 "nbformat": 4,
 "nbformat_minor": 2
}
